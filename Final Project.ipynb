{
 "cells": [
  {
   "cell_type": "markdown",
   "metadata": {},
   "source": [
    "# Mass of W, Z boson and top quark"
   ]
  },
  {
   "cell_type": "markdown",
   "metadata": {},
   "source": [
    "### 1. Single Lepton Final State: W Boson Production"
   ]
  },
  {
   "cell_type": "markdown",
   "metadata": {},
   "source": [
    "W bosons are produced at LHC abundantly through the leptonic decay \\\\[ W^\\pm = l^\\pm v \\\\] \n",
    "\n",
    "For the 13TeV dataset, the final event selection criteria are:\n",
    "- Single electron or single muon trigger satisfied\n",
    "- Exactly one light lepton with transverse momentum greater than 35GeV\n",
    "- Missing transverse momentum greater than 30GeV\n",
    "- The transverse mass of W boson greater than 60GeV"
   ]
  },
  {
   "cell_type": "code",
   "execution_count": 2,
   "metadata": {},
   "outputs": [],
   "source": [
    "import awkward\n",
    "import numpy as np\n",
    "import uproot\n",
    "import pandas as pd\n",
    "import matplotlib.pyplot as plt\n",
    "import seaborn as sns\n",
    "import math"
   ]
  },
  {
   "cell_type": "code",
   "execution_count": 13,
   "metadata": {},
   "outputs": [],
   "source": [
    "# Here, the file is chosen so that it only contains the data of desired decay process\n",
    "events = uproot.open(\"./mc_363489.WlvZqq.1lep.root\")[\"mini\"].lazyarrays([\"lep_pt\",\"lep_eta\",\"lep_phi\",\"lep_E\"],persistvirtual=True)"
   ]
  },
  {
   "cell_type": "code",
   "execution_count": 15,
   "metadata": {},
   "outputs": [],
   "source": [
    "def Invmass(x): \n",
    "    mass = np.sqrt(x[0]**2 - x[1]**2 -x[2]**2 - x[3]**2)\n",
    "    return mass"
   ]
  },
  {
   "cell_type": "code",
   "execution_count": null,
   "metadata": {},
   "outputs": [],
   "source": [
    "L4V =[]\n",
    "for x in range(len(events[\"lep_pt\"])):\n",
    "    px = events[\"lep_pt\"][x]/1000. * math.cos(events[\"lep_phi\"][x])\n",
    "    py = events[\"lep_pt\"][x]/1000. * math.sin(events[\"lep_phi\"][x])\n",
    "    pz = events[\"lep_pt\"][x]/1000. * math.sinh(events[\"lep_eta\"][x])\n",
    "    E = events[\"lep_E\"][x]/1000.\n",
    "    lep= [E,px,py,pz]\n",
    "    L4V.append(lep)\n",
    "invmass = []\n",
    "for x in range(len(L4V)):\n",
    "    invmass.append(Invmass(L4V[x]))\n",
    "plt.figure(figsize=(10,8))\n",
    "plt.hist(invmass,range=(40,160),bins=30)\n",
    "plt.title(\"Invariant Mass of Z Boson\",fontsize=20)\n",
    "plt.xlabel(\"Invariant Mass(GeV)\",fontsize=12)\n",
    "plt.ylabel(\"Counts\",fontsize=12)\n",
    "plt.show()"
   ]
  },
  {
   "cell_type": "markdown",
   "metadata": {},
   "source": [
    "### 2.  Single-lepton final state: the cases of top-quark pair production"
   ]
  },
  {
   "cell_type": "markdown",
   "metadata": {},
   "source": [
    "At hadron colliders, top quarks are predominantly produced in pairs via the flavour conserving stronginteraction, but single top-quark production can occur via charged current electroweak processes involving a Wtb vertex. \n",
    "- In the case of top quark pair production\n",
    "\n",
    "The analysis presented targets the lepton+jets final state, where one W boson originating from the top-quark decays leptonically and the other W boson decays hadronically.\n",
    "\\\\[t\\bar{t} \\rightarrow W^+W^- \\rightarrow lvq\\bar{q}b\\bar{b}\\\\]\n",
    "The event selection criteria are:\n",
    "- Single-electron or single-muon trigger satisfied;\n",
    "- Exactly one lepton (electron or muon) with pT > 30 GeV;\n",
    "- Missing transverse momentum greater than 30 GeV;\n",
    "- Transverse mass of the W-boson larger than 30 GeV;\n",
    "- At least four jets with pT > 30 GeV, out of which at least two are b-tagged "
   ]
  },
  {
   "cell_type": "code",
   "execution_count": null,
   "metadata": {},
   "outputs": [],
   "source": [
    "events = uproot.open(\"./mc_410000.ttbar_lep.1lep.root\")['mini'].lazyarrays()"
   ]
  }
 ],
 "metadata": {
  "kernelspec": {
   "display_name": "Python 3",
   "language": "python",
   "name": "python3"
  },
  "language_info": {
   "codemirror_mode": {
    "name": "ipython",
    "version": 3
   },
   "file_extension": ".py",
   "mimetype": "text/x-python",
   "name": "python",
   "nbconvert_exporter": "python",
   "pygments_lexer": "ipython3",
   "version": "3.7.4"
  }
 },
 "nbformat": 4,
 "nbformat_minor": 4
}
